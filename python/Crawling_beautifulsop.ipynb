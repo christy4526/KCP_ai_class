{
 "cells": [
  {
   "cell_type": "code",
   "execution_count": 3,
   "metadata": {},
   "outputs": [],
   "source": [
    "import bs4\n",
    "import urllib.request\n",
    "import datetime"
   ]
  },
  {
   "cell_type": "code",
   "execution_count": 14,
   "metadata": {},
   "outputs": [],
   "source": [
    "class Song:\n",
    "    count = 0\n",
    "    \n",
    "    def __init__(self, title, artist, album):\n",
    "        Song.count += 1\n",
    "        \n",
    "        self.rank = Song.count\n",
    "        self.title = title\n",
    "        self.artist = artist\n",
    "        self.album = album\n",
    "        self.info = self.format_song_info()\n",
    "        \n",
    "    def format_song_info(self):\n",
    "        return '\\t'.join([str(self.rank), self.title, self.artist, self.album])\n",
    "    \n",
    "def make_soup(config):\n",
    "    req = urllib.request.Request(config['url'], headers=config['headers'])\n",
    "    page = urllib.request.urlopen(req)\n",
    "\n",
    "    return bs4.BeautifulSoup(page,'html.parser')\n",
    "\n",
    "def main(url, file_name):\n",
    "    request_config = {\n",
    "        'url': url,\n",
    "        'headers':{'User-Agent': 'Mozilla/5.0 (X11; Linux x86-64) AppleWebKit/537.36 (KHTML, like Gecko)'\n",
    "                                'Chrome/72.0.3626.121 Safari/537.36'}\n",
    "    }\n",
    "    soup = make_soup(request_config)\n",
    "    \n",
    "    chart=[]\n",
    "    titles=soup.find_all('div', class_='rank01')\n",
    "    artists=soup.find_all('div',class_='rank02')\n",
    "    albums = soup.find_all('div', class_='rank03')\n",
    "    \n",
    "    for i in range(0, 100):\n",
    "        song = Song(titles[i].span.a.string, artists[i].span.a.string, albums[i].a.string)\n",
    "        chart.append(song)\n",
    "        \n",
    "    result_file_path = file_name+datetime.date.today().strftime('%Y%m%d')+'.txt'\n",
    "    result_file = open(result_file_path, 'w', encoding='UTF-8')\n",
    "    \n",
    "    for song in chart:\n",
    "        print(song.info, file=result_file)\n",
    "    \n",
    "    result_file.close()\n",
    "    \n",
    "if __name__ == '__main__':\n",
    "    urls = ['https://www.melon.com/chart/index.htm', 'https://www.melon.com/chart/day/index.htm',\n",
    "        'https://www.melon.com/chart/week/index.htm','https://www.melon.com/chart/month/index.htm']\n",
    "    file_names = ['melon_chart_24H_','melon_chart_day_','melon_chart_week_','melon_chart_month_']\n",
    "    for i in range(4):\n",
    "        main(url[i], file_name[i])"
   ]
  },
  {
   "cell_type": "code",
   "execution_count": null,
   "metadata": {},
   "outputs": [],
   "source": []
  }
 ],
 "metadata": {
  "kernelspec": {
   "display_name": "Python 3",
   "language": "python",
   "name": "python3"
  },
  "language_info": {
   "codemirror_mode": {
    "name": "ipython",
    "version": 3
   },
   "file_extension": ".py",
   "mimetype": "text/x-python",
   "name": "python",
   "nbconvert_exporter": "python",
   "pygments_lexer": "ipython3",
   "version": "3.7.7"
  }
 },
 "nbformat": 4,
 "nbformat_minor": 4
}
