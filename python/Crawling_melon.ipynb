{
 "cells": [
  {
   "cell_type": "code",
   "execution_count": 1,
   "metadata": {},
   "outputs": [],
   "source": [
    "import time\n",
    "import pandas as pd\n",
    "from selenium import webdriver as wd\n",
    "from tqdm.notebook import tqdm\n",
    "import re"
   ]
  },
  {
   "cell_type": "code",
   "execution_count": 43,
   "metadata": {},
   "outputs": [],
   "source": [
    "#opntions = wd.ChromeOptions()\n",
    "#opntions.add_argument('headless')\n",
    "driver = wd.Chrome(\"C:\\chromedriver\")\n",
    "\n",
    "url = \"https://www.melon.com/\"\n",
    "driver.get(url)\n",
    "time.sleep(1)   # 1초 쉰다"
   ]
  },
  {
   "cell_type": "code",
   "execution_count": 44,
   "metadata": {},
   "outputs": [],
   "source": [
    "# login1 = driver.find_element_by_css_selector(\"#gnbLoginDiv > div > button\").click()\n",
    "# login2 = driver.find_element_by_css_selector(\"#conts_section > div > div > div:nth-child(2) > button\").click()\n",
    "\n",
    "# inputid = driver.find_element_by_css_selector(\"#id\").send_keys(\"\") #id\n",
    "# inputpq = driver.find_element_by_css_selector(\"#pwd\").send_keys(\"\") #pw\n",
    "# loginbtn = driver.find_element_by_css_selector(\"#btnLogin\").click()"
   ]
  },
  {
   "cell_type": "code",
   "execution_count": 60,
   "metadata": {},
   "outputs": [],
   "source": [
    "songs, singers, images = [], [],[]\n",
    "\n",
    "chart = driver.find_element_by_css_selector(\"#gnb_menu > ul:nth-child(1) > li.nth1 > a \").click()\n",
    "time.sleep(4)\n",
    "# song = driver.find_elements_by_css_selector(\"#frm > div > table > tbody > tr:nth-child(1) > td:nth-child(4) > div > div > div.ellipsis.rank01 > span > a\")\n",
    "# song = driver.find_elements_by_css_selector(\"div.ellipsis.rank01 > span > a\")\n",
    "\n",
    "\n",
    "for p in range(1,101):\n",
    "    song = driver.find_elements_by_css_selector(\"#frm > div > table > tbody > tr:nth-child(\"+str(p)+\") > td:nth-child(4) > div > div > div.ellipsis.rank01 > span > a\")\n",
    "    singer = driver.find_elements_by_css_selector(\"#frm > div > table > tbody > tr:nth-child(\"+str(p)+\") > td:nth-child(4) > div > div > div.ellipsis.rank02 > a\")\n",
    "    image = driver.find_elements_by_css_selector(\"#frm > div > table > tbody > tr:nth-child(\"+str(p)+\") > td:nth-child(2) > div > a > img\")\n",
    "    \n",
    "    songs.append(song[0].text)\n",
    "    singers.append(singer[0].text)\n",
    "    images.append(image[0].get_attribute('src'))"
   ]
  },
  {
   "cell_type": "code",
   "execution_count": 62,
   "metadata": {},
   "outputs": [
    {
     "name": "stdout",
     "output_type": "stream",
     "text": [
      "['다시 여기 바닷가', '마리아 (Maria)', 'How You Like That', '그 여름을 틀어줘', 'Summer Hate (Feat. 비)', '여름 안에서 by 싹쓰리 (Feat. 황광희)', 'Downtown Baby', '에잇(Prod.&Feat. SUGA of BTS)', '홀로', '아로하', '보라빛 밤 (pporappippam)', 'Dolphin', '살짝 설렜어 (Nonstop)', '사랑하게 될 줄 알았어', 'Dance Monkey', 'Into the I-LAND', '어떻게 지내 (Prod. By VAN.C)', 'Memories', 'METEOR', 'MORE & MORE', \"Don't Start Now\", '흔들리는 꽃들 속에서 네 샴푸향이 느껴진거야', 'Blueming', '아무노래', 'Monster', '처음처럼', 'PLAY (Feat. 창모)', '나비와 고양이 (feat.백현 (BAEKHYUN))', '좋은 사람 있으면 소개시켜줘', '시작', '어떻게 이별까지 사랑하겠어, 널 사랑하는 거지', '2002', '늦은 밤 너의 집 앞 골목길에서', '마음을 드려요', '오늘도 빛나는 너에게 (To You My Light) (Feat.이라온)', '작은 것들을 위한 시 (Boy With Luv) (Feat. Halsey)', '모든 날, 모든 순간 (Every day, Every Moment)', '깡 Official Remix', '사랑은 지날수록 더욱 선명하게 남아', 'Psycho', 'ON', 'Maniac', '화려하지 않은 고백', '취기를 빌려 (취향저격 그녀 X 산들)', '우리 왜 헤어져야 해', '너에게 난, 나에게 넌', '이제 나만 믿어요', '환상동화 (Secret Story of the Swan)', '덤더럼 (Dumhdurum)', '그때 그 아인', '안녕', 'Paris In The Rain', '어떻게 지내 (답가)', '첫 줄', '돌덩이', '취했나봐', 'Left & Right', 'FIESTA', '반만', '아직 너의 시간에 살아', '그대 고운 내사랑', '내 눈물 모아', '비', 'Love poem', '너를 사랑하고 있어', '오늘따라 비가 와서 그런가 봐', 'Candy', '봄날', 'What You Waiting For', 'Painkiller', 'WANNABE', '00:00 (Zero O’Clock)', 'OHIO', '거짓말이라도 해서 널 보고싶어', 'Stuck with U', 'Black Swan', '어느 60대 노부부이야기', 'bad guy', 'HIP', '너를 만나', '친구', '찐이야', 'To Die For', 'Error (Feat. Loopy)', '12:45 (Stripped)', 'Lonely Night', '시든 꽃에 물을 주듯', '불 좀 꺼줄래', '바램', '니가 왜 거기서 나와 (Narr. 고은아)', 'Apple', '10억뷰 (Feat. MOON)', '조금 취했어 (Prod. 2soo)', 'Moon', 'Filter', '사랑이란 멜로는 없어', '포장마차', '우리 만남이', '너를 그린 우주 (Insomnia2020) (Feat. 이라온)', 'Happy']\n",
      "['싹쓰리 (유두래곤, 린다G, 비룡)', '화사 (Hwa Sa)', 'BLACKPINK', '싹쓰리 (유두래곤, 린다G, 비룡)', '지코 (ZICO)', '싹쓰리 (유두래곤, 린다G, 비룡)', '블루 (BLOO)', '아이유', '이하이', '조정석', '선미', '오마이걸', '오마이걸', '전미도', 'Tones And I', '아이유', '오반', 'Maroon 5', '창모 (CHANGMO)', 'TWICE (트와이스)', 'Dua Lipa', '장범준', '아이유', '지코 (ZICO)', '레드벨벳-아이린&슬기', '엠씨더맥스 (M.C the MAX)', '청하', '볼빨간사춘기', '조이 (JOY)', '가호 (Gaho)', 'AKMU (악동뮤지션)', 'Anne-Marie', '노을', '아이유', '마크툽 (MAKTUB)', '방탄소년단', '폴킴', '식케이 (Sik-K)', '전상근', 'Red Velvet (레드벨벳)', '방탄소년단', 'Conan Gray', '규현 (KYUHYUN)', '산들', '신예영', '미도와 파라솔', '임영웅', 'IZ*ONE (아이즈원)', 'Apink (에이핑크)', '김필', '폴킴', 'Lauv', '런치', '신용재', '하현우 (국카스텐)', '황인욱', '세븐틴', 'IZ*ONE (아이즈원)', '진민호', '이수현', '어반자카파', '휘인 (Whee In)', '폴킴', '아이유', '백현 (BAEKHYUN)', '솔지', '백현 (BAEKHYUN)', '방탄소년단', '전소미', 'Ruel', 'ITZY (있지)', '방탄소년단', 'Crush', '백지영', 'Ariana Grande', '방탄소년단', '임영웅', 'Billie Eilish', '마마무 (Mamamoo)', '폴킴', '방탄소년단', '영탁', 'Sam Smith', 'ASH ISLAND', 'Etham', '윤두준', 'HYNN (박혜원)', '오반', '임영웅', '영탁', '여자친구 (GFRIEND)', '세훈&찬열', '임재현', '방탄소년단', '방탄소년단', '전상근', '황인욱', '폴킴', '마크툽 (MAKTUB)', '태연 (TAEYEON)']\n",
      "100\n"
     ]
    }
   ],
   "source": [
    "print(songs)\n",
    "print(singers)"
   ]
  },
  {
   "cell_type": "code",
   "execution_count": 69,
   "metadata": {},
   "outputs": [],
   "source": [
    "melon = pd.DataFrame([songs, singers, images]).T\n",
    "melon.columns = (['Song', 'Singer', 'Image'])"
   ]
  },
  {
   "cell_type": "code",
   "execution_count": 70,
   "metadata": {},
   "outputs": [
    {
     "data": {
      "text/html": [
       "<div>\n",
       "<style scoped>\n",
       "    .dataframe tbody tr th:only-of-type {\n",
       "        vertical-align: middle;\n",
       "    }\n",
       "\n",
       "    .dataframe tbody tr th {\n",
       "        vertical-align: top;\n",
       "    }\n",
       "\n",
       "    .dataframe thead th {\n",
       "        text-align: right;\n",
       "    }\n",
       "</style>\n",
       "<table border=\"1\" class=\"dataframe\">\n",
       "  <thead>\n",
       "    <tr style=\"text-align: right;\">\n",
       "      <th></th>\n",
       "      <th>Song</th>\n",
       "      <th>Singer</th>\n",
       "      <th>Image</th>\n",
       "    </tr>\n",
       "  </thead>\n",
       "  <tbody>\n",
       "    <tr>\n",
       "      <th>0</th>\n",
       "      <td>다시 여기 바닷가</td>\n",
       "      <td>싹쓰리 (유두래곤, 린다G, 비룡)</td>\n",
       "      <td>https://cdnimg.melon.co.kr/cm2/album/images/10...</td>\n",
       "    </tr>\n",
       "    <tr>\n",
       "      <th>1</th>\n",
       "      <td>마리아 (Maria)</td>\n",
       "      <td>화사 (Hwa Sa)</td>\n",
       "      <td>https://cdnimg.melon.co.kr/cm2/album/images/10...</td>\n",
       "    </tr>\n",
       "    <tr>\n",
       "      <th>2</th>\n",
       "      <td>How You Like That</td>\n",
       "      <td>BLACKPINK</td>\n",
       "      <td>https://cdnimg.melon.co.kr/cm2/album/images/10...</td>\n",
       "    </tr>\n",
       "    <tr>\n",
       "      <th>3</th>\n",
       "      <td>그 여름을 틀어줘</td>\n",
       "      <td>싹쓰리 (유두래곤, 린다G, 비룡)</td>\n",
       "      <td>https://cdnimg.melon.co.kr/cm2/album/images/10...</td>\n",
       "    </tr>\n",
       "    <tr>\n",
       "      <th>4</th>\n",
       "      <td>Summer Hate (Feat. 비)</td>\n",
       "      <td>지코 (ZICO)</td>\n",
       "      <td>https://cdnimg.melon.co.kr/cm2/album/images/10...</td>\n",
       "    </tr>\n",
       "    <tr>\n",
       "      <th>...</th>\n",
       "      <td>...</td>\n",
       "      <td>...</td>\n",
       "      <td>...</td>\n",
       "    </tr>\n",
       "    <tr>\n",
       "      <th>95</th>\n",
       "      <td>사랑이란 멜로는 없어</td>\n",
       "      <td>전상근</td>\n",
       "      <td>https://cdnimg.melon.co.kr/cm2/album/images/10...</td>\n",
       "    </tr>\n",
       "    <tr>\n",
       "      <th>96</th>\n",
       "      <td>포장마차</td>\n",
       "      <td>황인욱</td>\n",
       "      <td>https://cdnimg.melon.co.kr/cm/album/images/102...</td>\n",
       "    </tr>\n",
       "    <tr>\n",
       "      <th>97</th>\n",
       "      <td>우리 만남이</td>\n",
       "      <td>폴킴</td>\n",
       "      <td>https://cdnimg.melon.co.kr/cm2/album/images/10...</td>\n",
       "    </tr>\n",
       "    <tr>\n",
       "      <th>98</th>\n",
       "      <td>너를 그린 우주 (Insomnia2020) (Feat. 이라온)</td>\n",
       "      <td>마크툽 (MAKTUB)</td>\n",
       "      <td>https://cdnimg.melon.co.kr/cm2/album/images/10...</td>\n",
       "    </tr>\n",
       "    <tr>\n",
       "      <th>99</th>\n",
       "      <td>Happy</td>\n",
       "      <td>태연 (TAEYEON)</td>\n",
       "      <td>https://cdnimg.melon.co.kr/cm2/album/images/10...</td>\n",
       "    </tr>\n",
       "  </tbody>\n",
       "</table>\n",
       "<p>100 rows × 3 columns</p>\n",
       "</div>"
      ],
      "text/plain": [
       "                                   Song               Singer  \\\n",
       "0                             다시 여기 바닷가  싹쓰리 (유두래곤, 린다G, 비룡)   \n",
       "1                           마리아 (Maria)          화사 (Hwa Sa)   \n",
       "2                     How You Like That            BLACKPINK   \n",
       "3                             그 여름을 틀어줘  싹쓰리 (유두래곤, 린다G, 비룡)   \n",
       "4                 Summer Hate (Feat. 비)            지코 (ZICO)   \n",
       "..                                  ...                  ...   \n",
       "95                          사랑이란 멜로는 없어                  전상근   \n",
       "96                                 포장마차                  황인욱   \n",
       "97                               우리 만남이                   폴킴   \n",
       "98  너를 그린 우주 (Insomnia2020) (Feat. 이라온)         마크툽 (MAKTUB)   \n",
       "99                                Happy         태연 (TAEYEON)   \n",
       "\n",
       "                                                Image  \n",
       "0   https://cdnimg.melon.co.kr/cm2/album/images/10...  \n",
       "1   https://cdnimg.melon.co.kr/cm2/album/images/10...  \n",
       "2   https://cdnimg.melon.co.kr/cm2/album/images/10...  \n",
       "3   https://cdnimg.melon.co.kr/cm2/album/images/10...  \n",
       "4   https://cdnimg.melon.co.kr/cm2/album/images/10...  \n",
       "..                                                ...  \n",
       "95  https://cdnimg.melon.co.kr/cm2/album/images/10...  \n",
       "96  https://cdnimg.melon.co.kr/cm/album/images/102...  \n",
       "97  https://cdnimg.melon.co.kr/cm2/album/images/10...  \n",
       "98  https://cdnimg.melon.co.kr/cm2/album/images/10...  \n",
       "99  https://cdnimg.melon.co.kr/cm2/album/images/10...  \n",
       "\n",
       "[100 rows x 3 columns]"
      ]
     },
     "execution_count": 70,
     "metadata": {},
     "output_type": "execute_result"
    }
   ],
   "source": [
    "melon"
   ]
  },
  {
   "cell_type": "code",
   "execution_count": null,
   "metadata": {},
   "outputs": [],
   "source": []
  }
 ],
 "metadata": {
  "kernelspec": {
   "display_name": "Python 3",
   "language": "python",
   "name": "python3"
  },
  "language_info": {
   "codemirror_mode": {
    "name": "ipython",
    "version": 3
   },
   "file_extension": ".py",
   "mimetype": "text/x-python",
   "name": "python",
   "nbconvert_exporter": "python",
   "pygments_lexer": "ipython3",
   "version": "3.7.7"
  }
 },
 "nbformat": 4,
 "nbformat_minor": 4
}
